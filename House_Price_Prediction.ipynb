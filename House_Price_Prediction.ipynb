{
 "cells": [
  {
   "cell_type": "code",
   "execution_count": 31,
   "metadata": {},
   "outputs": [],
   "source": [
    "# Import necessary Libraries\n",
    "\n",
    "import pandas as pd\n",
    "from sklearn.model_selection import train_test_split\n",
    "from sklearn.linear_model import LinearRegression\n",
    "from sklearn.ensemble import GradientBoostingRegressor, RandomForestRegressor\n",
    "from sklearn.metrics import mean_absolute_error, mean_squared_error, r2_score\n",
    "import xgboost as xgb\n",
    "import dash\n",
    "from dash import dcc, html\n",
    "from dash import dash_table\n",
    "import plotly.graph_objs as go\n",
    "import os"
   ]
  },
  {
   "cell_type": "code",
   "execution_count": 32,
   "metadata": {},
   "outputs": [],
   "source": [
    "# Load data\n",
    "data = pd.read_csv('data.csv')"
   ]
  },
  {
   "cell_type": "code",
   "execution_count": 33,
   "metadata": {},
   "outputs": [],
   "source": [
    "# Preprocess data\n",
    "data = pd.get_dummies(data, columns=['street', 'city', 'statezip', 'country'])\n",
    "data['date'] = pd.to_datetime(data['date'])\n",
    "data['year'] = data['date'].dt.year\n",
    "data['month'] = data['date'].dt.month\n",
    "data['day'] = data['date'].dt.day\n",
    "data = data.drop(columns=['date'])"
   ]
  },
  {
   "cell_type": "code",
   "execution_count": 34,
   "metadata": {},
   "outputs": [],
   "source": [
    "# Split features and target variable\n",
    "X = data.drop(columns=['price'])\n",
    "Y = data['price']\n",
    "\n",
    "def train_and_evaluate(model, X_train, X_test, Y_train, Y_test, algorithm_name):\n",
    "    model.fit(X_train, Y_train)\n",
    "    predictions = model.predict(X_test)\n",
    "    mae = mean_absolute_error(Y_test, predictions)\n",
    "    mse = mean_squared_error(Y_test, predictions)\n",
    "    rmse = mse ** 0.5\n",
    "    r2 = r2_score(Y_test, predictions)\n",
    "    return {\n",
    "        'Algorithm': algorithm_name,\n",
    "        'MAE': mae,\n",
    "        'MSE': mse,\n",
    "        'RMSE': rmse,\n",
    "        'R2': r2,\n",
    "        'Predictions': predictions,\n",
    "        'Actuals': Y_test\n",
    "    }"
   ]
  },
  {
   "cell_type": "code",
   "execution_count": 35,
   "metadata": {},
   "outputs": [],
   "source": [
    "# Split data\n",
    "X_train, X_test, Y_train, Y_test = train_test_split(X, Y, test_size=0.3, random_state=42)"
   ]
  },
  {
   "cell_type": "code",
   "execution_count": 36,
   "metadata": {},
   "outputs": [],
   "source": [
    "# Train models\n",
    "linear_results = train_and_evaluate(LinearRegression(), X_train, X_test, Y_train, Y_test, 'Linear Regression')\n",
    "gbr_results = train_and_evaluate(GradientBoostingRegressor(random_state=42), X_train, X_test, Y_train, Y_test, 'Gradient Boosting Regression')\n",
    "rf_results = train_and_evaluate(RandomForestRegressor(random_state=42), X_train, X_test, Y_train, Y_test, 'Random Forest Regression')\n",
    "xgb_results = train_and_evaluate(xgb.XGBRegressor(objective='reg:squarederror', random_state=42), X_train, X_test, Y_train, Y_test, 'XGBoost Regression')\n"
   ]
  },
  {
   "cell_type": "code",
   "execution_count": 37,
   "metadata": {},
   "outputs": [
    {
     "data": {
      "text/html": [
       "\n",
       "        <iframe\n",
       "            width=\"100%\"\n",
       "            height=\"650\"\n",
       "            src=\"http://127.0.0.1:8050/\"\n",
       "            frameborder=\"0\"\n",
       "            allowfullscreen\n",
       "            \n",
       "        ></iframe>\n",
       "        "
      ],
      "text/plain": [
       "<IPython.lib.display.IFrame at 0x1b706bb1b50>"
      ]
     },
     "metadata": {},
     "output_type": "display_data"
    }
   ],
   "source": [
    "# Create Dash app\n",
    "app = dash.Dash(__name__)\n",
    "\n",
    "def create_scatter_plot(results, title):\n",
    "    return dcc.Graph(\n",
    "        figure={\n",
    "            'data': [\n",
    "                go.Scatter(\n",
    "                    x=results['Actuals'],\n",
    "                    y=results['Predictions'],\n",
    "                    mode='markers',\n",
    "                    name='Predicted vs Actual',\n",
    "                    marker=dict(color='blue')\n",
    "                ),\n",
    "                go.Scatter(\n",
    "                    x=results['Actuals'],\n",
    "                    y=results['Actuals'],\n",
    "                    mode='lines',\n",
    "                    name='Ideal Fit',\n",
    "                    line=dict(color='red')\n",
    "                )\n",
    "            ],\n",
    "            'layout': go.Layout(\n",
    "                title=title,\n",
    "                xaxis={'title': 'Actual Prices', 'range': [0, 4000000]},\n",
    "                yaxis={'title': 'Predicted Prices'},\n",
    "                showlegend=True\n",
    "            )\n",
    "        }\n",
    "    )\n",
    "\n",
    "app.layout = html.Div(children=[\n",
    "    html.H1(children='House Price Prediction Model Comparison'),\n",
    "    create_scatter_plot(linear_results, 'Linear Regression: Predicted vs Actual Prices'),\n",
    "    create_scatter_plot(gbr_results, 'Gradient Boosting Regression: Predicted vs Actual Prices'),\n",
    "    create_scatter_plot(rf_results, 'Random Forest Regression: Predicted vs Actual Prices'),\n",
    "    create_scatter_plot(xgb_results, 'XGBoost Regression: Predicted vs Actual Prices')\n",
    "])\n",
    "\n",
    "if __name__ == '__main__':\n",
    "    app.run(debug=True)"
   ]
  }
 ],
 "metadata": {
  "kernelspec": {
   "display_name": "Python 3",
   "language": "python",
   "name": "python3"
  },
  "language_info": {
   "codemirror_mode": {
    "name": "ipython",
    "version": 3
   },
   "file_extension": ".py",
   "mimetype": "text/x-python",
   "name": "python",
   "nbconvert_exporter": "python",
   "pygments_lexer": "ipython3",
   "version": "3.13.2"
  }
 },
 "nbformat": 4,
 "nbformat_minor": 2
}
